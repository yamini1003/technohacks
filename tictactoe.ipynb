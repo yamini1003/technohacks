{
  "nbformat": 4,
  "nbformat_minor": 0,
  "metadata": {
    "colab": {
      "provenance": [],
      "authorship_tag": "ABX9TyPg9n5wxPCc59WcC/LfSPg2",
      "include_colab_link": true
    },
    "kernelspec": {
      "name": "python3",
      "display_name": "Python 3"
    },
    "language_info": {
      "name": "python"
    }
  },
  "cells": [
    {
      "cell_type": "markdown",
      "metadata": {
        "id": "view-in-github",
        "colab_type": "text"
      },
      "source": [
        "<a href=\"https://colab.research.google.com/github/yamini1003/technohacks/blob/main/tictactoe.ipynb\" target=\"_parent\"><img src=\"https://colab.research.google.com/assets/colab-badge.svg\" alt=\"Open In Colab\"/></a>"
      ]
    },
    {
      "cell_type": "code",
      "execution_count": 1,
      "metadata": {
        "colab": {
          "base_uri": "https://localhost:8080/"
        },
        "id": "OHYJ5pPZ9ktH",
        "outputId": "e2d22201-bfb8-4521-bfd3-7afa5fe31203"
      },
      "outputs": [
        {
          "output_type": "stream",
          "name": "stdout",
          "text": [
            "\n",
            "|   |   |   |\n",
            "|   |   |   |\n",
            "|   |   |   |\n",
            "\n",
            "your turn player1\n",
            "enter your move(1-9): 3\n",
            "\n",
            "|   |   | X |\n",
            "|   |   |   |\n",
            "|   |   |   |\n",
            "\n",
            "your turn player2\n",
            "enter your move(1-9): 5\n",
            "\n",
            "|   |   | X |\n",
            "|   | O |   |\n",
            "|   |   |   |\n",
            "\n",
            "your turn player1\n",
            "enter your move(1-9): 6\n",
            "\n",
            "|   |   | X |\n",
            "|   | O | X |\n",
            "|   |   |   |\n",
            "\n",
            "your turn player2\n",
            "enter your move(1-9): 2\n",
            "\n",
            "|   | O | X |\n",
            "|   | O | X |\n",
            "|   |   |   |\n",
            "\n",
            "your turn player1\n",
            "enter your move(1-9): 9\n",
            "\n",
            "|   | O | X |\n",
            "|   | O | X |\n",
            "|   |   | X |\n",
            "\n",
            "X wins! Congratulations\n"
          ]
        }
      ],
      "source": [
        "board=[\" \" for x in range(9)]\n",
        "def print_board():\n",
        "  row1=\"| {} | {} | {} |\".format(board[0],board[1],board[2])\n",
        "  row2=\"| {} | {} | {} |\".format(board[3],board[4],board[5])\n",
        "  row3=\"| {} | {} | {} |\".format(board[6],board[7],board[8])\n",
        "  print()\n",
        "  print(row1)\n",
        "  print(row2)\n",
        "  print(row3)\n",
        "  print()\n",
        "def player_move(icon):\n",
        "  if icon=='X':\n",
        "    number=1\n",
        "  elif icon=='O':\n",
        "    number=2\n",
        "  print(\"your turn player{}\".format(number))\n",
        "  choice=int(input(\"enter your move(1-9): \").strip())\n",
        "  if board[choice-1]==\" \":\n",
        "    board[choice-1]=icon\n",
        "  else:\n",
        "    print()\n",
        "    print(\"That space is already taken\")\n",
        "def  is_victory(icon):\n",
        "  if (board[0]==icon and board[1]==icon and board[2]==icon) or (board[3]==icon and board[4]==icon and board[5]==icon) or (board[6]==icon and board[7]==icon and board[8]==icon) or (board[0]==icon and board[3]==icon and board[6]==icon) or (board[1]==icon and board[4]==icon and board[7]==icon) or (board[2]==icon and board[5]==icon and board[8]==icon) or (board[0]==icon and board[4]==icon and board[8]==icon) or (board[2]==icon and board[4]==icon and board[6]==icon):\n",
        "    return True\n",
        "  else:\n",
        "    return False\n",
        "def is_draw():\n",
        "  if \" \" not in board:\n",
        "    return True\n",
        "  else:\n",
        "    return False\n",
        "while True:\n",
        "  print_board()\n",
        "  player_move(\"X\")\n",
        "  print_board()\n",
        "  if is_victory(\"X\"):\n",
        "    print(\"X wins! Congratulations\")\n",
        "    break\n",
        "  elif is_draw():\n",
        "    print(\"It is a draw!\")\n",
        "    break\n",
        "  player_move(\"O\")\n",
        "  if is_victory(\"O\"):\n",
        "    print(\"O wins! Congratulations\")\n",
        "    break\n",
        "  elif is_draw():\n",
        "    print(\"It is a draw!\")\n",
        "    break"
      ]
    }
  ]
}