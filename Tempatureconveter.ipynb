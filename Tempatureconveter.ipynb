{
  "nbformat": 4,
  "nbformat_minor": 0,
  "metadata": {
    "colab": {
      "provenance": [],
      "authorship_tag": "ABX9TyMZqzAyoFm3RfQOKjtzMseE",
      "include_colab_link": true
    },
    "kernelspec": {
      "name": "python3",
      "display_name": "Python 3"
    },
    "language_info": {
      "name": "python"
    }
  },
  "cells": [
    {
      "cell_type": "markdown",
      "metadata": {
        "id": "view-in-github",
        "colab_type": "text"
      },
      "source": [
        "<a href=\"https://colab.research.google.com/github/yamini1003/technohacks/blob/main/Tempatureconveter.ipynb\" target=\"_parent\"><img src=\"https://colab.research.google.com/assets/colab-badge.svg\" alt=\"Open In Colab\"/></a>"
      ]
    },
    {
      "cell_type": "code",
      "execution_count": 1,
      "metadata": {
        "colab": {
          "base_uri": "https://localhost:8080/"
        },
        "id": "zh_szm8t9G1q",
        "outputId": "e45cf8db-0983-42c2-aa8a-042639b1892c"
      },
      "outputs": [
        {
          "name": "stdout",
          "output_type": "stream",
          "text": [
            "Enter the temperature you want to convert (e.g., 32F, 100C): 65\n",
            "Invalid input. Please enter a valid temperature with a unit (e.g., 32F, 100C).\n",
            "Enter the temperature you want to convert (e.g., 32F, 100C): 65F\n",
            "65.0 degrees Fahrenheit is equal to 18.3 degrees Celsius\n",
            "Do you want to convert another temperature? (yes/no): yes\n",
            "Enter the temperature you want to convert (e.g., 32F, 100C): 100c\n",
            "100.0 degrees Celsius is equal to 212.0 degrees Fahrenheit\n",
            "Do you want to convert another temperature? (yes/no): no\n"
          ]
        }
      ],
      "source": [
        "def convert_temp(temp, unit):\n",
        "  \"\"\"\n",
        "  Converts a temperature from Fahrenheit to Celsius or vice versa.\n",
        "\n",
        "  Args:\n",
        "    temp: The temperature to convert.\n",
        "    unit: The unit of the temperature (\"F\" for Fahrenheit, \"C\" for Celsius).\n",
        "\n",
        "  Returns:\n",
        "    The converted temperature in the opposite unit.\n",
        "  \"\"\"\n",
        "\n",
        "  if unit == \"F\":\n",
        "    return (temp - 32) * 5/9\n",
        "  elif unit == \"C\":\n",
        "    return temp * 9/5 + 32\n",
        "  else:\n",
        "    raise ValueError(\"Invalid unit: {}\".format(unit))\n",
        "\n",
        "while True:\n",
        "  try:\n",
        "    temp_str = input(\"Enter the temperature you want to convert (e.g., 32F, 100C): \")\n",
        "    temp = float(temp_str[:-1])  # Extract the numerical part of the temperature\n",
        "    unit = temp_str[-1].upper()  # Extract the unit (last character)\n",
        "    converted_temp = convert_temp(temp, unit)\n",
        "\n",
        "    if unit == \"F\":\n",
        "      print(f\"{temp} degrees Fahrenheit is equal to {converted_temp:.1f} degrees Celsius\")\n",
        "    else:\n",
        "      print(f\"{temp} degrees Celsius is equal to {converted_temp:.1f} degrees Fahrenheit\")\n",
        "\n",
        "    repeat = input(\"Do you want to convert another temperature? (yes/no): \")\n",
        "    if repeat.lower() != \"yes\":\n",
        "      break\n",
        "  except ValueError:\n",
        "    print(\"Invalid input. Please enter a valid temperature with a unit (e.g., 32F, 100C).\")"
      ]
    }
  ]
}